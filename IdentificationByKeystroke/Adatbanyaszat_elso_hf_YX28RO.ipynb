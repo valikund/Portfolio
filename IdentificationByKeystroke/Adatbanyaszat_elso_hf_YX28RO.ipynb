{
 "cells": [
  {
   "cell_type": "code",
   "execution_count": 6,
   "metadata": {},
   "outputs": [],
   "source": [
    "#minta szerint\n",
    "def timeseries_first():\n",
    "    keydown = ''\n",
    "    timeseries = []\n",
    "    row = data_in.readline()\n",
    "    row = row.split()\n",
    "    while row:\n",
    "        wrong_key = row[2] == '8' or row[2] == '39'\n",
    "        if not wrong_key and row[0] == 'keydown':\n",
    "            keydown = row[5]\n",
    "        if not wrong_key and keydown and row[0] == 'keyup':\n",
    "            timeseries.append(str(int(row[5])-int(keydown)))\n",
    "            keydown = ''\n",
    "        row = data_in.readline()\n",
    "        row = row.split()\n",
    "    return timeseries"
   ]
  },
  {
   "cell_type": "code",
   "execution_count": 7,
   "metadata": {},
   "outputs": [],
   "source": [
    "data_in = open(\"keystrokes-12users-raw-data.txt\",\"r\")\n",
    "training_in = open(\"keystrokes-12users-train-labels.txt\",\"r\")\n",
    "test_in = open(\"keystrokes-12users-test-hypothetic-labels.txt\",\"r\")\n",
    "data_x = []\n",
    "data_y = []\n",
    "row = data_in.readline().strip()\n",
    "while row:\n",
    "    if 'TYPING PATTERN' in row:\n",
    "        data_x.append(timeseries_first())\n",
    "    row = data_in.readline().strip()\n",
    "    \n",
    "data_in.close()\n",
    "#separating the train and test dataset\n",
    "train_x = []\n",
    "train_y = []\n",
    "test_x = []\n",
    "test_y = []\n",
    "row = training_in.readline().strip()\n",
    "while row:\n",
    "    row = row.split(sep=',')\n",
    "    train_x.append(data_x[int(row[0])-1])\n",
    "    train_y.append(int(row[1]))\n",
    "    row = training_in.readline()\n",
    "training_in.close()\n",
    "#the test datasets\n",
    "row = test_in.readline().strip()\n",
    "while row:\n",
    "    row = row.split(sep=',')\n",
    "    test_x.append(data_x[int(row[0])-1])\n",
    "    test_y.append(int(row[1]))\n",
    "    row = test_in.readline()\n",
    "test_in.close()\n",
    "\n",
    "data_length = []\n",
    "for data in data_x:\n",
    "    data_length.append(len(data))\n"
   ]
  },
  {
   "cell_type": "code",
   "execution_count": 11,
   "metadata": {},
   "outputs": [
    {
     "name": "stdout",
     "output_type": "stream",
     "text": [
      "178\n",
      "180\n",
      "178\n",
      "168\n",
      "220\n",
      "194\n",
      "198\n",
      "192\n",
      "187\n",
      "189\n",
      "187\n",
      "219\n",
      "217\n",
      "205\n",
      "237\n",
      "206\n",
      "220\n",
      "220\n",
      "211\n",
      "208\n",
      "191\n",
      "189\n",
      "192\n",
      "185\n",
      "193\n",
      "217\n",
      "191\n",
      "200\n",
      "197\n",
      "202\n",
      "177\n",
      "177\n",
      "185\n",
      "178\n",
      "177\n",
      "227\n",
      "211\n",
      "219\n",
      "223\n",
      "219\n",
      "224\n",
      "223\n",
      "225\n",
      "221\n",
      "225\n",
      "211\n",
      "215\n",
      "212\n",
      "229\n",
      "217\n",
      "174\n",
      "173\n",
      "174\n",
      "171\n",
      "162\n",
      "186\n",
      "182\n",
      "183\n",
      "182\n",
      "184\n"
     ]
    }
   ],
   "source": [
    "from sklearn.ensemble import RandomForestClassifier\n",
    "for train in train_x:\n",
    "    print(len(train))"
   ]
  },
  {
   "cell_type": "code",
   "execution_count": 1,
   "metadata": {
    "collapsed": true
   },
   "outputs": [],
   "source": [
    "#szerintem ez a jó\n",
    "def timeseries_first_sajat():\n",
    "    bFirstRow = True\n",
    "    keydown_dict = dict()\n",
    "    timeseries = []\n",
    "    row = data_in.readline()\n",
    "    row = row.split()\n",
    "    while row:\n",
    "        if row[0] == 'keydown':\n",
    "            keydown_dict[row[2]] = row[5]\n",
    "        if not bFirstRow and row[0] == 'keyup':\n",
    "            timeseries.append(str(int(row[5])-int(keydown_dict[row[2]])))\n",
    "            del keydown_dict[row[2]]\n",
    "        bFirstRow = False\n",
    "        row = data_in.readline()\n",
    "        row = row.split()\n",
    "    return timeseries"
   ]
  },
  {
   "cell_type": "code",
   "execution_count": 3,
   "metadata": {},
   "outputs": [],
   "source": [
    "data_in = open(\"keystrokes-12users-raw-data.txt\",\"r\")\n",
    "data_out = open(\"timeseries_sajat.txt\",\"w\")\n",
    "row = data_in.readline().strip()\n",
    "while row:\n",
    "    if row == 'TYPING PATTERN' :\n",
    "        data_in.readline()\n",
    "        data_in.readline()\n",
    "        data_in.readline()\n",
    "        data_out.write(\" \".join(timeseries_first_sajat()))\n",
    "        data_out.write(\"\\n\")\n",
    "    row = data_in.readline().strip()\n",
    "\n",
    "data_out.close()\n",
    "data_in.close()"
   ]
  },
  {
   "cell_type": "code",
   "execution_count": 5,
   "metadata": {
    "collapsed": true
   },
   "outputs": [],
   "source": [
    "def timeseries_second():\n",
    "    last_keydown = ''\n",
    "    timeseries = []\n",
    "    row = data_in.readline()\n",
    "    row = row.split()\n",
    "    while row:\n",
    "        if row[0] == 'keydown':\n",
    "            \n",
    "            if last_keydown :\n",
    "                timeseries.append(str(int(row[5])-int(last_keydown)))\n",
    "            last_keydown = row[5]\n",
    "        row = data_in.readline()\n",
    "        row = row.split()\n",
    "    return timeseries"
   ]
  },
  {
   "cell_type": "code",
   "execution_count": 1,
   "metadata": {},
   "outputs": [
    {
     "ename": "FileNotFoundError",
     "evalue": "[Errno 2] No such file or directory: 'data.txt'",
     "output_type": "error",
     "traceback": [
      "\u001b[1;31m---------------------------------------------------------------------------\u001b[0m",
      "\u001b[1;31mFileNotFoundError\u001b[0m                         Traceback (most recent call last)",
      "\u001b[1;32m<ipython-input-1-4136a3c730ea>\u001b[0m in \u001b[0;36m<module>\u001b[1;34m()\u001b[0m\n\u001b[1;32m----> 1\u001b[1;33m \u001b[0mdata_in\u001b[0m \u001b[1;33m=\u001b[0m \u001b[0mopen\u001b[0m\u001b[1;33m(\u001b[0m\u001b[1;34m\"data.txt\"\u001b[0m\u001b[1;33m,\u001b[0m\u001b[1;34m\"r\"\u001b[0m\u001b[1;33m)\u001b[0m\u001b[1;33m\u001b[0m\u001b[0m\n\u001b[0m\u001b[0;32m      2\u001b[0m \u001b[0mdata_out\u001b[0m \u001b[1;33m=\u001b[0m \u001b[0mopen\u001b[0m\u001b[1;33m(\u001b[0m\u001b[1;34m\"timeseries_2.txt\"\u001b[0m\u001b[1;33m,\u001b[0m\u001b[1;34m\"w\"\u001b[0m\u001b[1;33m)\u001b[0m\u001b[1;33m\u001b[0m\u001b[0m\n\u001b[0;32m      3\u001b[0m \u001b[0mrow\u001b[0m \u001b[1;33m=\u001b[0m \u001b[0mdata_in\u001b[0m\u001b[1;33m.\u001b[0m\u001b[0mreadline\u001b[0m\u001b[1;33m(\u001b[0m\u001b[1;33m)\u001b[0m\u001b[1;33m.\u001b[0m\u001b[0mstrip\u001b[0m\u001b[1;33m(\u001b[0m\u001b[1;33m)\u001b[0m\u001b[1;33m\u001b[0m\u001b[0m\n\u001b[0;32m      4\u001b[0m \u001b[1;32mwhile\u001b[0m \u001b[0mrow\u001b[0m\u001b[1;33m:\u001b[0m\u001b[1;33m\u001b[0m\u001b[0m\n\u001b[0;32m      5\u001b[0m     \u001b[1;32mif\u001b[0m \u001b[0mrow\u001b[0m \u001b[1;33m==\u001b[0m \u001b[1;34m'TYPING PATTERN'\u001b[0m \u001b[1;33m:\u001b[0m\u001b[1;33m\u001b[0m\u001b[0m\n",
      "\u001b[1;31mFileNotFoundError\u001b[0m: [Errno 2] No such file or directory: 'data.txt'"
     ]
    }
   ],
   "source": [
    "data_in = open(\"data.txt\",\"r\")\n",
    "data_out = open(\"timeseries_2.txt\",\"w\")\n",
    "row = data_in.readline().strip()\n",
    "while row:\n",
    "    if row == 'TYPING PATTERN' :\n",
    "        data_in.readline()\n",
    "        data_in.readline()\n",
    "        data_in.readline()\n",
    "        data_out.write(\" \".join(timeseries_second()))\n",
    "        data_out.write(\"\\n\")\n",
    "    row = data_in.readline().strip()\n",
    "\n",
    "data_out.close()\n",
    "data_in.close()"
   ]
  },
  {
   "cell_type": "code",
   "execution_count": 2,
   "metadata": {},
   "outputs": [
    {
     "name": "stdout",
     "output_type": "stream",
     "text": [
      "['alabaster==0.7.7', 'anaconda-client==1.2.2', 'argcomplete==1.0.0', 'astropy==1.1.1', 'babel==2.2.0', 'beautifulsoup4==4.4.1', 'bitarray==0.8.1', 'blaze==0.9.0', 'bokeh==0.11.0', 'boto==2.39.0', 'bottleneck==1.0.0', 'bz2file==0.98', 'cffi==1.2.1', 'clyent==1.2.0', 'colorama==0.3.6', 'comtypes==1.1.2', 'conda-build==1.19.0', 'conda-env==2.4.5', 'conda==3.19.1', 'configobj==5.0.6', 'cryptography==1.0.1', 'cycler==0.9.0', 'cython==0.23.4', 'cytoolz==0.7.5', 'datashape==0.5.0', 'decorator==4.0.6', 'docutils==0.12', 'dynd==f641248', 'et-xmlfile==1.0.1', 'fastcache==1.0.2', 'flask==0.10.1', 'futures==3.0.3', 'gensim==0.12.4', 'greenlet==0.4.9', 'h5py==2.5.0', 'httpretty==0.8.10', 'idna==2.0', 'ipykernel==4.2.2', 'ipython-genutils==0.1.0', 'ipython==4.0.3', 'ipywidgets==4.1.1', 'itsdangerous==0.24', 'jdcal==1.2', 'jedi==0.9.0', 'jinja2==2.8', 'jsonschema==2.4.0', 'jupyter-client==4.1.1', 'jupyter-console==4.1.0', 'jupyter-core==4.0.6', 'jupyter==1.0.0', 'llvmlite==0.8.0', 'lxml==3.5.0', 'markupsafe==0.23', 'matplotlib==1.5.1', 'menuinst==1.3.2', 'mistune==0.7.1', 'multipledispatch==0.4.8', 'nbconvert==4.1.0', 'nbformat==4.0.1', 'networkx==1.11', 'nltk==3.1', 'nose==1.3.7', 'notebook==4.1.0', 'numba==0.23.1', 'numexpr==2.4.6', 'numpy==1.10.4', 'odo==0.4.0', 'openpyxl==2.3.2', 'pandas==0.17.1', 'path.py==0.0.0', 'patsy==0.4.0', 'pep8==1.7.0', 'pickleshare==0.5', 'pillow==3.1.0', 'pip==8.0.2', 'ply==3.8', 'psutil==3.4.2', 'py==1.4.31', 'pyasn1==0.1.9', 'pycosat==0.6.1', 'pycparser==2.14', 'pycrypto==2.6.1', 'pyflakes==1.0.0', 'pygments==2.1', 'pyopenssl==0.15.1', 'pyparsing==2.0.3', 'pyreadline==2.1', 'pytest==2.8.5', 'python-dateutil==2.4.2', 'pytz==2015.7', 'pywin32==219', 'pyyaml==3.11', 'pyzmq==15.2.0', 'qtconsole==4.1.1', 'requests==2.8.1', 'rope-py3k==0.9.4.post1', 'scikit-image==0.11.3', 'scikit-learn==0.17', 'scipy==0.17.0', 'setuptools==19.6.2', 'simplegeneric==0.8.1', 'six==1.10.0', 'smart-open==1.3.2', 'snowballstemmer==1.2.1', 'sockjs-tornado==1.0.1', 'sphinx-rtd-theme==0.1.9', 'sphinx==1.3.1', 'spyder==2.3.8', 'sqlalchemy==1.0.11', 'statsmodels==0.6.1', 'sympy==0.7.6.1', 'tables==3.2.2', 'toolz==0.7.4', 'tornado==4.3', 'traitlets==4.1.0', 'unicodecsv==0.14.1', 'werkzeug==0.11.3', 'wheel==0.26.0', 'xlrd==0.9.4', 'xlsxwriter==0.8.4', 'xlwings==0.6.4', 'xlwt==1.0.0']\n"
     ]
    }
   ],
   "source": [
    "import pip\n",
    "installed_packages = pip.get_installed_distributions()\n",
    "installed_packages_list = sorted([\"%s==%s\" % (i.key, i.version)\n",
    "     for i in installed_packages])\n",
    "print(installed_packages_list)"
   ]
  },
  {
   "cell_type": "code",
   "execution_count": null,
   "metadata": {
    "collapsed": true
   },
   "outputs": [],
   "source": []
  }
 ],
 "metadata": {
  "kernelspec": {
   "display_name": "Python 3",
   "language": "python",
   "name": "python3"
  },
  "language_info": {
   "codemirror_mode": {
    "name": "ipython",
    "version": 3
   },
   "file_extension": ".py",
   "mimetype": "text/x-python",
   "name": "python",
   "nbconvert_exporter": "python",
   "pygments_lexer": "ipython3",
   "version": "3.5.2"
  }
 },
 "nbformat": 4,
 "nbformat_minor": 1
}
