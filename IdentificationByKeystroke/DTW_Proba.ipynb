{
 "cells": [
  {
   "cell_type": "code",
   "execution_count": 2,
   "metadata": {
    "collapsed": false
   },
   "outputs": [],
   "source": [
    "import numpy as np\n",
    "from sklearn import preprocessing\n",
    "from sklearn.metrics import accuracy_score\n",
    "from sklearn.linear_model import LogisticRegressionCV\n",
    "from sklearn.neighbors.nearest_centroid import NearestCentroid\n",
    "from sklearn.ensemble import RandomForestClassifier\n",
    "from sklearn.naive_bayes import GaussianNB\n",
    "from sklearn.svm import SVC\n",
    "from sklearn.neighbors import KNeighborsClassifier"
   ]
  },
  {
   "cell_type": "code",
   "execution_count": 59,
   "metadata": {
    "collapsed": false
   },
   "outputs": [],
   "source": [
    "dtw_test1 = np.load(\"dtw_test1.npy\")\n",
    "dtw_test2 = np.load(\"dtw_test2.npy\")\n",
    "dtw_train1 = np.load(\"dtw_array1.npy\")\n",
    "dtw_train2 = np.load(\"dtw_array2.npy\")\n",
    "test_y = np.load(\"test_y.npy\")"
   ]
  },
  {
   "cell_type": "code",
   "execution_count": 60,
   "metadata": {
    "collapsed": false
   },
   "outputs": [],
   "source": [
    "train_label = []\n",
    "for i in range(1,13):\n",
    "    train_label.extend([i,i,i,i,i])"
   ]
  },
  {
   "cell_type": "code",
   "execution_count": 61,
   "metadata": {
    "collapsed": false
   },
   "outputs": [
    {
     "name": "stdout",
     "output_type": "stream",
     "text": [
      "0.180327868852\n",
      "0.334016393443\n",
      "182\n"
     ]
    }
   ],
   "source": [
    "from sklearn import neighbors\n",
    "neigh = neighbors.KNeighborsClassifier(3)\n",
    "neigh.fit(dtw_train2, train_label) \n",
    "pred2 = neigh.predict(dtw_test2)\n",
    "print(accuracy_score(test_y,pred2))\n",
    "\n",
    "neigh = neighbors.KNeighborsClassifier(3)\n",
    "neigh.fit(dtw_train1, train_label) \n",
    "pred1 = neigh.predict(dtw_test1)\n",
    "print(accuracy_score(test_y,pred1))\n",
    "\n",
    "numb = 0\n",
    "for index,y in enumerate(test_y):\n",
    "    result = 6\n",
    "    if y == pred1[index] or y == pred2[index]:\n",
    "        numb = numb + 1\n",
    "print(numb)"
   ]
  },
  {
   "cell_type": "code",
   "execution_count": 19,
   "metadata": {
    "collapsed": false
   },
   "outputs": [
    {
     "name": "stdout",
     "output_type": "stream",
     "text": [
      "220\n"
     ]
    }
   ],
   "source": [
    "for i in range(0,20):\n",
    "    #semi supervized szettek elkészítése\n",
    "    int_train = 0\n",
    "    int_test = 0\n",
    "    semi_train1 = np.empty([numb,60])\n",
    "    semi_train2 = np.empty([numb,60])\n",
    "    semi_label = np.empty([numb])\n",
    "    for index,y in enumerate(test_y):\n",
    "        if y == pred1[index] or y == pred2[index]:\n",
    "            semi_train1[int_train, :] = dtw_test1[index, :]\n",
    "            semi_train2[int_train, :] = dtw_test2[index, :]\n",
    "            semi_label[int_train] = y\n",
    "            int_train = int_train + 1\n",
    "\n",
    "    con_semi_train1 = np.empty([numb+60,60])\n",
    "    con_semi_train1[0:60,:] = dtw_train1[:,:]\n",
    "    con_semi_train1[60:,:] = semi_train1[:, :]\n",
    "    con_semi_train2 = np.empty([numb+60,60])\n",
    "    con_semi_train2[0:60,:] = dtw_train2[:,:]\n",
    "    con_semi_train2[60:,:] = semi_train2[:, :]\n",
    "    con_semi_label = np.empty([numb+60])\n",
    "    con_semi_label[0:60] = train_label[:]\n",
    "    con_semi_label[60:] = semi_label[:]\n",
    "    concatenate_x = np.concatenate((con_semi_train1,con_semi_train2),axis=1)\n",
    "    concatenate_ex = np.concatenate((dtw_test1,dtw_test2),axis=1)\n",
    "\n",
    "    clf = KNeighborsClassifier(1)\n",
    "    clf = clf.fit(concatenate_x, con_semi_label)\n",
    "    pred2 = clf.predict(concatenate_ex)\n",
    "    accuracy_score(pred2, test_y)\n",
    "\n",
    "    out = open(\"submission.txt\",\"w\")\n",
    "\n",
    "    test_index = np.load(\"test_index.npy\")\n",
    "    numb = 0\n",
    "    for index,y in enumerate(test_y):\n",
    "        result = 6\n",
    "        if y == pred1[index] or y == pred2[index]:\n",
    "            result = 1\n",
    "            numb = numb + 1\n",
    "        else:\n",
    "            result = 0\n",
    "        out.write(str(test_index[index])+\",\")\n",
    "        out.write(str(result))\n",
    "        out.write(\"\\n\")\n",
    "    out.close()\n",
    "print(numb)\n",
    "pred3 = pred2"
   ]
  },
  {
   "cell_type": "code",
   "execution_count": null,
   "metadata": {
    "collapsed": false
   },
   "outputs": [],
   "source": [
    "num_max = 0\n",
    "while num_max != 239:\n",
    "    #semi supervized szettek elkészítése\n",
    "    int_train = 0\n",
    "    int_test = 0\n",
    "    semi_train1 = np.empty([numb,60])\n",
    "    semi_train2 = np.empty([numb,60])\n",
    "    semi_label = np.empty([numb])\n",
    "    for index,y in enumerate(test_y):\n",
    "        if y == pred1[index] or y == pred2[index]:\n",
    "            semi_train1[int_train, :] = dtw_test1[index, :]\n",
    "            semi_train2[int_train, :] = dtw_test2[index, :]\n",
    "            semi_label[int_train] = y\n",
    "            int_train = int_train + 1\n",
    "\n",
    "    con_semi_train1 = np.empty([numb+60,60])\n",
    "    con_semi_train1[0:60,:] = dtw_train1[:,:]\n",
    "    con_semi_train1[60:,:] = semi_train1[:, :]\n",
    "    con_semi_train2 = np.empty([numb+60,60])\n",
    "    con_semi_train2[0:60,:] = dtw_train2[:,:]\n",
    "    con_semi_train2[60:,:] = semi_train2[:, :]\n",
    "    con_semi_label = np.empty([numb+60])\n",
    "    con_semi_label[0:60] = train_label[:]\n",
    "    con_semi_label[60:] = semi_label[:]\n",
    "    concatenate_x = np.concatenate((con_semi_train1,con_semi_train2),axis=1)\n",
    "    concatenate_ex = np.concatenate((dtw_test1,dtw_test2),axis=1)\n",
    "\n",
    "    clf = RandomForestClassifier(n_estimators=40)\n",
    "    clf = clf.fit(concatenate_x, con_semi_label)\n",
    "    pred2 = clf.predict(concatenate_ex)\n",
    "    accuracy_score(pred2, test_y)\n",
    "\n",
    "    out = open(\"submission.txt\",\"w\")\n",
    "\n",
    "    test_index = np.load(\"test_index.npy\")\n",
    "    numb = 0\n",
    "    for index,y in enumerate(test_y):\n",
    "        result = 6\n",
    "        if y == pred1[index] or y == pred2[index]:\n",
    "            result = 1\n",
    "            numb = numb + 1\n",
    "        else:\n",
    "            result = 0\n",
    "        out.write(str(test_index[index])+\",\")\n",
    "        out.write(str(result))\n",
    "        out.write(\"\\n\")\n",
    "    out.close()\n",
    "    if numb > num_max:\n",
    "        num_max = numb\n",
    "print(num_max)"
   ]
  },
  {
   "cell_type": "code",
   "execution_count": 63,
   "metadata": {
    "collapsed": false
   },
   "outputs": [
    {
     "name": "stdout",
     "output_type": "stream",
     "text": [
      "5\n",
      "7\n",
      "6\n",
      "2\n",
      "8\n",
      "8\n",
      "5\n",
      "6\n",
      "10\n",
      "12\n",
      "7\n",
      "10\n",
      "5\n",
      "5\n",
      "2\n",
      "7\n",
      "7\n",
      "7\n",
      "7\n",
      "7\n",
      "12\n",
      "6\n",
      "9\n",
      "9\n"
     ]
    }
   ],
   "source": [
    "out = open(\"submission.txt\",\"w\")\n",
    "test_index = np.load(\"test_index.npy\")\n",
    "numb = 0\n",
    "for index,y in enumerate(test_y):\n",
    "        if y == 12:\n",
    "            print(pred2[index])\n",
    "        result = 6\n",
    "        if y == pred3[index] or y == pred2[index]:\n",
    "            result = 1\n",
    "            numb = numb + 1\n",
    "        else:\n",
    "            result = 0\n",
    "        out.write(str(test_index[index])+\",\")\n",
    "        out.write(str(result))\n",
    "        out.write(\"\\n\")\n",
    "out.close()"
   ]
  },
  {
   "cell_type": "code",
   "execution_count": 47,
   "metadata": {
    "collapsed": false
   },
   "outputs": [
    {
     "name": "stdout",
     "output_type": "stream",
     "text": [
      "[[  1.  52.]\n",
      " [  2.  47.]\n",
      " [  3.  66.]\n",
      " [  4.  15.]\n",
      " [  5.  48.]\n",
      " [  6.  47.]\n",
      " [  7.  69.]\n",
      " [  8.  39.]\n",
      " [  9.  21.]\n",
      " [ 10.  39.]\n",
      " [ 11.  43.]\n",
      " [ 12.   2.]]\n"
     ]
    }
   ],
   "source": [
    "unique, counts = np.unique(pred2, return_counts=True)\n",
    "print np.asarray((unique, counts)).T"
   ]
  },
  {
   "cell_type": "code",
   "execution_count": 34,
   "metadata": {
    "collapsed": false
   },
   "outputs": [
    {
     "name": "stdout",
     "output_type": "stream",
     "text": [
      "[ 2  9  7  2  2  9  4  2  3 11  2  6  8  3  3  3 10  3 11  9  3  5  2  3  7\n",
      "  2  9  3 10  4  3  3 12  3  3  3  3  3  7  2  2  2  6  7  1  3  6  3  2  9\n",
      "  2  2  3 10  9  3  1  3  9  7  5  2  4  3  2  2  2  2  2  2  2  8  1  3 11\n",
      "  4  3 11  5  2 12  4  3  7  3  2  7 12  3  2  3  3  1 10 10  4  4  4  5  4\n",
      "  7  4  7  5  4  7  3  9 10  1  4  1  1  6  5  1  1  1  2 12  7  3  7  4  4\n",
      "  4  1  4  4  4  4  1  1  7  1  1 10  4  5  4  5  9  4  7  4  4  4 11 11  9\n",
      " 10  1  8  1  1  6  1  1  5  1  6  4  1 12 12  1  6  3  8  1  5 12  1  1  4\n",
      "  6  4  1  1  1 12  9 10  7  7 10  9  3 10 10  3  6  9 11 10  1  7  3 10 10\n",
      " 10  4 10  9  6 10  7  1 12  9 12  7 10  9  7  7  7  4 11  7  7  7  7  6 10\n",
      " 12 12  2  7  8  5  7  7  7  7  3 11 11  7 11  6 10  7  7  9  7  3  1  7  7\n",
      "  3  3  4 11 11  1  8  7  4  2  9 11 11  6 11 11  6  7  8  6 11  7 11  1 11\n",
      "  8  5  7 11  4  6 11 11 11  9 11  4 11  4  7 11  4 11  5  2  2 11  8 11  7\n",
      "  7  7  7  3  8  5  7  5 12  3  7  8  9  5  5  3  6  9  8  5  7  6  5  3  8\n",
      " 11  6  8  8  8 11 11  8  2  6  5  1  1  5  8  8  7  3  8  8  6 12  5  6  2\n",
      "  4  1  5  8 11  8  8  8 10 12 12 10 12  5  6  5 10  5  5  1  5  8  4 10 12\n",
      "  8  7 10  8  4  2  8  5 11  3  1  6  2  5  5  5  8  5  5  5  6  5  8 11  5\n",
      " 12 11 12 12  1  5 10 10 10  7 10  9 10 11  6  8  4  6  9  6  9  3  6  2  6\n",
      "  6  1  6  6  2  6  6  8 11  2  3  7  6  1  2  6 12  2  7  1  7  6  7  6  6\n",
      "  6  6  6  6  6  7  5  5  6  6  6  6  6  6  6 12 12  3 10  1  8 11 10 11  4\n",
      " 10  3  9  6  9  9  3  9  2  9  2  8  2]\n"
     ]
    }
   ],
   "source": [
    "print(test_y)"
   ]
  },
  {
   "cell_type": "code",
   "execution_count": null,
   "metadata": {
    "collapsed": true
   },
   "outputs": [],
   "source": []
  }
 ],
 "metadata": {
  "kernelspec": {
   "display_name": "Python 2",
   "language": "python",
   "name": "python2"
  },
  "language_info": {
   "codemirror_mode": {
    "name": "ipython",
    "version": 2
   },
   "file_extension": ".py",
   "mimetype": "text/x-python",
   "name": "python",
   "nbconvert_exporter": "python",
   "pygments_lexer": "ipython2",
   "version": "2.7.11"
  }
 },
 "nbformat": 4,
 "nbformat_minor": 0
}
