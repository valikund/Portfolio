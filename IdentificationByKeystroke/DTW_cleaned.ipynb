{
 "cells": [
  {
   "cell_type": "code",
   "execution_count": 14,
   "metadata": {
    "collapsed": true
   },
   "outputs": [],
   "source": [
    "from fastdtw import fastdtw\n",
    "from scipy.spatial.distance import euclidean\n",
    "import numpy as np"
   ]
  },
  {
   "cell_type": "code",
   "execution_count": 15,
   "metadata": {
    "collapsed": true
   },
   "outputs": [],
   "source": [
    "def timeseries_first():\n",
    "    keydown = ''\n",
    "    timeseries = []\n",
    "    row = data_in.readline()\n",
    "    row = row.split()\n",
    "    while row:\n",
    "        if row[0] == 'keydown':\n",
    "            keydown = row[5]\n",
    "        if keydown and row[0] == 'keyup':\n",
    "            timeseries.append(int(row[5])-int(keydown))\n",
    "            keydown = ''\n",
    "        row = data_in.readline()\n",
    "        row = row.split()\n",
    "    return timeseries"
   ]
  },
  {
   "cell_type": "code",
   "execution_count": 16,
   "metadata": {
    "collapsed": true
   },
   "outputs": [],
   "source": [
    "def timeseries_second():\n",
    "    last_keydown = ''\n",
    "    timeseries = []\n",
    "    row = data_in.readline()\n",
    "    row = row.split()\n",
    "    while row:\n",
    "        if row[0] == 'keydown':\n",
    "            \n",
    "            if last_keydown :\n",
    "                timeseries.append(int(row[5])-int(last_keydown))\n",
    "            last_keydown = row[5]\n",
    "        row = data_in.readline()\n",
    "        row = row.split()\n",
    "    return timeseries"
   ]
  },
  {
   "cell_type": "code",
   "execution_count": 17,
   "metadata": {
    "collapsed": false
   },
   "outputs": [],
   "source": [
    "### Create first series\n",
    "#open files\n",
    "data_in = open(\"C:/Users/valikund/Desktop/Challange/keystrokes-12users-raw-data.txt\",\"r\")\n",
    "training_in = open(\"C:/Users/valikund/Desktop/Challange/keystrokes-12users-train-labels.txt\",\"r\")\n",
    "test_in = open(\"C:/Users/valikund/Desktop/Challange/keystrokes-12users-test-hypothetic-labels.txt\",\"r\")\n",
    "#extract all information\n",
    "data_x, data_y  = [], []\n",
    "row = data_in.readline().strip()\n",
    "while row:\n",
    "    if 'TYPING PATTERN' in row:\n",
    "        data_x.append(timeseries_first())\n",
    "    row = data_in.readline().strip()\n",
    "data_in.close()\n",
    "#separating the train and test dataset\n",
    "train_x,train_y = [],[]\n",
    "test_index,test_x,test_y = [],[],[]\n",
    "row = training_in.readline().strip()\n",
    "while row:\n",
    "    row = row.split(',')\n",
    "    train_x.append(data_x[int(row[0])-1])\n",
    "    train_y.append(int(row[1]))\n",
    "    row = training_in.readline()\n",
    "training_in.close()\n",
    "#the test datasets\n",
    "row = test_in.readline().strip()\n",
    "while row:\n",
    "    row = row.split(',')\n",
    "    test_x.append(data_x[int(row[0])-1])\n",
    "    test_index.append(int(row[0]))\n",
    "    test_y.append(int(row[1]))\n",
    "    row = test_in.readline()\n",
    "test_in.close()\n",
    "#sorting the values\n",
    "train_x_sorted = []\n",
    "train_y_arranged = np.array(train_y)\n",
    "sort_index = np.argsort(train_y_arranged)\n",
    "for position in sort_index:\n",
    "    train_x_sorted.append(train_x[position])\n",
    "train_x = train_x_sorted\n",
    "train_y.sort() "
   ]
  },
  {
   "cell_type": "code",
   "execution_count": 18,
   "metadata": {
    "collapsed": false
   },
   "outputs": [],
   "source": [
    "### Create second series\n",
    "#open files\n",
    "data_in = open(\"C:/Users/valikund/Desktop/Challange/keystrokes-12users-raw-data.txt\",\"r\")\n",
    "training_in = open(\"C:/Users/valikund/Desktop/Challange/keystrokes-12users-train-labels.txt\",\"r\")\n",
    "test_in = open(\"C:/Users/valikund/Desktop/Challange/keystrokes-12users-test-hypothetic-labels.txt\",\"r\")\n",
    "#extract all information\n",
    "data_x2, data_y2  = [], []\n",
    "row = data_in.readline().strip()\n",
    "while row:\n",
    "    if 'TYPING PATTERN' in row:\n",
    "        data_x2.append(timeseries_second())\n",
    "    row = data_in.readline().strip()\n",
    "data_in.close()\n",
    "#separating the train and test dataset\n",
    "train_x2,train_y2 = [],[]\n",
    "test_index2,test_x2,test_y2 = [],[],[]\n",
    "row = training_in.readline().strip()\n",
    "while row:\n",
    "    row = row.split(',')\n",
    "    train_x2.append(data_x2[int(row[0])-1])\n",
    "    train_y2.append(int(row[1]))\n",
    "    row = training_in.readline()\n",
    "training_in.close()\n",
    "#the test datasets\n",
    "row = test_in.readline().strip()\n",
    "while row:\n",
    "    row = row.split(',')\n",
    "    test_x2.append(data_x2[int(row[0])-1])\n",
    "    test_index2.append(int(row[0]))\n",
    "    test_y2.append(int(row[1]))\n",
    "    row = test_in.readline()\n",
    "test_in.close()\n",
    "#sorting the values\n",
    "train_x_sorted2 = []\n",
    "train_y_arranged2 = np.array(train_y2)\n",
    "sort_index2 = np.argsort(train_y_arranged2)\n",
    "for position in sort_index2:\n",
    "    train_x_sorted2.append(train_x2[position])\n",
    "train_x2 = train_x_sorted2\n",
    "train_y2.sort() "
   ]
  },
  {
   "cell_type": "code",
   "execution_count": 12,
   "metadata": {
    "collapsed": false
   },
   "outputs": [
    {
     "name": "stdout",
     "output_type": "stream",
     "text": [
      "[[    0.  6867.  5497. ...,  6497.  6806.  6692.]\n",
      " [ 6867.     0.  3931. ...,  3895.  4410.  4660.]\n",
      " [ 5497.  3923.     0. ...,  4473.  4977.  4907.]\n",
      " ..., \n",
      " [ 6540.  3895.  4473. ...,     0.  3012.  3720.]\n",
      " [ 6806.  4410.  4977. ...,  3076.     0.  4043.]\n",
      " [ 6692.  4660.  4907. ...,  3720.  3982.     0.]]\n"
     ]
    }
   ],
   "source": [
    "#DTW for first one\n",
    "dtw_array1 = np.empty([60,60])\n",
    "for index_data,train_data in enumerate(train_x):\n",
    "    for index_other,train_other in enumerate(train_x):\n",
    "        distance, path = fastdtw(train_data, train_other, dist=euclidean)\n",
    "        dtw_array1[index_other,index_data] = distance\n",
    "print(dtw_array1)"
   ]
  },
  {
   "cell_type": "code",
   "execution_count": 19,
   "metadata": {
    "collapsed": false
   },
   "outputs": [
    {
     "name": "stdout",
     "output_type": "stream",
     "text": [
      "[[     0.  57382.  52965. ...,  69525.  63772.  69348.]\n",
      " [ 57382.      0.  49334. ...,  47618.  43745.  57126.]\n",
      " [ 52965.  49334.      0. ...,  66888.  62667.  64530.]\n",
      " ..., \n",
      " [ 69525.  47618.  66888. ...,      0.  29882.  37381.]\n",
      " [ 63772.  43745.  62667. ...,  29882.      0.  30760.]\n",
      " [ 69348.  57126.  64530. ...,  37381.  30760.      0.]]\n"
     ]
    }
   ],
   "source": [
    "#DTW for second one\n",
    "dtw_array2 = np.empty([60,60])\n",
    "for index_data,train_data in enumerate(train_x2):\n",
    "    for index_other,train_other in enumerate(train_x2):\n",
    "        distance, path = fastdtw(train_data, train_other, dist=euclidean)\n",
    "        dtw_array2[index_other,index_data] = distance\n",
    "print(dtw_array2)"
   ]
  },
  {
   "cell_type": "code",
   "execution_count": 20,
   "metadata": {
    "collapsed": false
   },
   "outputs": [],
   "source": [
    "dtw_test1 = np.empty([488,60])\n",
    "for index_data,train_data in enumerate(test_x):\n",
    "    for index_other,train_other in enumerate(train_x):\n",
    "        distance, path = fastdtw(train_data, train_other, dist=euclidean)\n",
    "        dtw_test1[index_data,index_other] = distance"
   ]
  },
  {
   "cell_type": "code",
   "execution_count": 11,
   "metadata": {
    "collapsed": true
   },
   "outputs": [],
   "source": [
    "dtw_test2 = np.empty([488,60])\n",
    "for index_data,train_data in enumerate(test_x2):\n",
    "    for index_other,train_other in enumerate(train_x2):\n",
    "        distance, path = fastdtw(train_data, train_other, dist=euclidean)\n",
    "        dtw_test2[index_data,index_other] = distance"
   ]
  },
  {
   "cell_type": "code",
   "execution_count": 24,
   "metadata": {
    "collapsed": false
   },
   "outputs": [
    {
     "ename": "NameError",
     "evalue": "name 'dtw_test1' is not defined",
     "output_type": "error",
     "traceback": [
      "\u001b[1;31m---------------------------------------------------------------------------\u001b[0m",
      "\u001b[1;31mNameError\u001b[0m                                 Traceback (most recent call last)",
      "\u001b[1;32m<ipython-input-24-81a43e5c00e2>\u001b[0m in \u001b[0;36m<module>\u001b[1;34m()\u001b[0m\n\u001b[1;32m----> 1\u001b[1;33m \u001b[0mnp\u001b[0m\u001b[1;33m.\u001b[0m\u001b[0msave\u001b[0m\u001b[1;33m(\u001b[0m\u001b[1;34m\"dtw_test1\"\u001b[0m\u001b[1;33m,\u001b[0m\u001b[0mdtw_test1\u001b[0m\u001b[1;33m)\u001b[0m\u001b[1;33m\u001b[0m\u001b[0m\n\u001b[0m\u001b[0;32m      2\u001b[0m \u001b[0mnp\u001b[0m\u001b[1;33m.\u001b[0m\u001b[0msave\u001b[0m\u001b[1;33m(\u001b[0m\u001b[1;34m\"dtw_test2\"\u001b[0m\u001b[1;33m,\u001b[0m\u001b[0mdtw_test2\u001b[0m\u001b[1;33m)\u001b[0m\u001b[1;33m\u001b[0m\u001b[0m\n\u001b[0;32m      3\u001b[0m \u001b[0mnp\u001b[0m\u001b[1;33m.\u001b[0m\u001b[0msave\u001b[0m\u001b[1;33m(\u001b[0m\u001b[1;34m\"dtw_array1\"\u001b[0m\u001b[1;33m,\u001b[0m\u001b[0mdtw_array1\u001b[0m\u001b[1;33m)\u001b[0m\u001b[1;33m\u001b[0m\u001b[0m\n\u001b[0;32m      4\u001b[0m \u001b[0mnp\u001b[0m\u001b[1;33m.\u001b[0m\u001b[0msave\u001b[0m\u001b[1;33m(\u001b[0m\u001b[1;34m\"dtw_array2\"\u001b[0m\u001b[1;33m,\u001b[0m\u001b[0mdtw_array2\u001b[0m\u001b[1;33m)\u001b[0m\u001b[1;33m\u001b[0m\u001b[0m\n\u001b[0;32m      5\u001b[0m \u001b[0mnp\u001b[0m\u001b[1;33m.\u001b[0m\u001b[0msave\u001b[0m\u001b[1;33m(\u001b[0m\u001b[1;34m\"test_y\"\u001b[0m\u001b[1;33m,\u001b[0m\u001b[0mtest_y\u001b[0m\u001b[1;33m)\u001b[0m\u001b[1;33m\u001b[0m\u001b[0m\n",
      "\u001b[1;31mNameError\u001b[0m: name 'dtw_test1' is not defined"
     ]
    }
   ],
   "source": [
    "np.save(\"dtw_test1\",dtw_test1)\n",
    "np.save(\"dtw_test2\",dtw_test2)\n",
    "np.save(\"dtw_array1\",dtw_array1)\n",
    "np.save(\"dtw_array2\",dtw_array2)\n",
    "np.save(\"test_y\",test_y)\n",
    "np.save(\"test_index\",test_index)"
   ]
  },
  {
   "cell_type": "code",
   "execution_count": 25,
   "metadata": {
    "collapsed": false
   },
   "outputs": [],
   "source": [
    "np.save(\"test_index\",test_index)"
   ]
  },
  {
   "cell_type": "code",
   "execution_count": null,
   "metadata": {
    "collapsed": true
   },
   "outputs": [],
   "source": []
  }
 ],
 "metadata": {
  "kernelspec": {
   "display_name": "Python 2",
   "language": "python",
   "name": "python2"
  },
  "language_info": {
   "codemirror_mode": {
    "name": "ipython",
    "version": 2
   },
   "file_extension": ".py",
   "mimetype": "text/x-python",
   "name": "python",
   "nbconvert_exporter": "python",
   "pygments_lexer": "ipython2",
   "version": "2.7.11"
  }
 },
 "nbformat": 4,
 "nbformat_minor": 0
}
