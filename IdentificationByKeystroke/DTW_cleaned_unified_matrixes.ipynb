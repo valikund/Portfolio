{
 "cells": [
  {
   "cell_type": "code",
   "execution_count": 1,
   "metadata": {
    "collapsed": true
   },
   "outputs": [],
   "source": [
    "from fastdtw import fastdtw\n",
    "from scipy.spatial.distance import euclidean\n",
    "import numpy as np"
   ]
  },
  {
   "cell_type": "code",
   "execution_count": 2,
   "metadata": {
    "collapsed": true
   },
   "outputs": [],
   "source": [
    "def timeseries_first():\n",
    "    keydown = ''\n",
    "    timeseries = []\n",
    "    row = data_in.readline()\n",
    "    row = row.split()\n",
    "    while row:\n",
    "        if row[0] == 'keydown':\n",
    "            keydown = row[5]\n",
    "        if keydown and row[0] == 'keyup':\n",
    "            timeseries.append(int(row[5])-int(keydown))\n",
    "            keydown = ''\n",
    "        row = data_in.readline()\n",
    "        row = row.split()\n",
    "    return timeseries"
   ]
  },
  {
   "cell_type": "code",
   "execution_count": 3,
   "metadata": {
    "collapsed": true
   },
   "outputs": [],
   "source": [
    "def timeseries_second():\n",
    "    last_keydown = ''\n",
    "    timeseries = []\n",
    "    row = data_in.readline()\n",
    "    row = row.split()\n",
    "    while row:\n",
    "        if row[0] == 'keydown':\n",
    "            \n",
    "            if last_keydown :\n",
    "                timeseries.append(int(row[5])-int(last_keydown))\n",
    "            last_keydown = row[5]\n",
    "        row = data_in.readline()\n",
    "        row = row.split()\n",
    "    return timeseries"
   ]
  },
  {
   "cell_type": "code",
   "execution_count": 4,
   "metadata": {
    "collapsed": true
   },
   "outputs": [],
   "source": [
    "### Create first series\n",
    "#open files\n",
    "data_in = open(\"C:/Users/valikund/Desktop/Challange/keystrokes-12users-raw-data.txt\",\"r\")\n",
    "training_in = open(\"C:/Users/valikund/Desktop/Challange/keystrokes-12users-train-labels.txt\",\"r\")\n",
    "test_in = open(\"C:/Users/valikund/Desktop/Challange/keystrokes-12users-test-hypothetic-labels.txt\",\"r\")\n",
    "#extract all information\n",
    "data_x, data_y  = [], []\n",
    "row = data_in.readline().strip()\n",
    "while row:\n",
    "    if 'TYPING PATTERN' in row:\n",
    "        data_x.append(timeseries_first())\n",
    "    row = data_in.readline().strip()\n",
    "data_in.close()\n",
    "#separating the train and test dataset\n",
    "train_x,train_y = [],[]\n",
    "test_index,test_x,test_y = [],[],[]\n",
    "row = training_in.readline().strip()\n",
    "while row:\n",
    "    row = row.split(',')\n",
    "    train_x.append(data_x[int(row[0])-1])\n",
    "    train_y.append(int(row[1]))\n",
    "    row = training_in.readline()\n",
    "training_in.close()\n",
    "#the test datasets\n",
    "row = test_in.readline().strip()\n",
    "while row:\n",
    "    row = row.split(',')\n",
    "    test_x.append(data_x[int(row[0])-1])\n",
    "    test_index.append(int(row[0]))\n",
    "    test_y.append(int(row[1]))\n",
    "    row = test_in.readline()\n",
    "test_in.close()\n",
    "#sorting the values\n",
    "train_x_sorted = []\n",
    "train_y_arranged = np.array(train_y)\n",
    "sort_index = np.argsort(train_y_arranged)\n",
    "for position in sort_index:\n",
    "    train_x_sorted.append(train_x[position])\n",
    "train_x = train_x_sorted\n",
    "train_y.sort() "
   ]
  },
  {
   "cell_type": "code",
   "execution_count": 5,
   "metadata": {
    "collapsed": true
   },
   "outputs": [],
   "source": [
    "### Create second series\n",
    "#open files\n",
    "data_in = open(\"C:/Users/valikund/Desktop/Challange/keystrokes-12users-raw-data.txt\",\"r\")\n",
    "training_in = open(\"C:/Users/valikund/Desktop/Challange/keystrokes-12users-train-labels.txt\",\"r\")\n",
    "test_in = open(\"C:/Users/valikund/Desktop/Challange/keystrokes-12users-test-hypothetic-labels.txt\",\"r\")\n",
    "#extract all information\n",
    "data_x2, data_y2  = [], []\n",
    "row = data_in.readline().strip()\n",
    "while row:\n",
    "    if 'TYPING PATTERN' in row:\n",
    "        data_x2.append(timeseries_second())\n",
    "    row = data_in.readline().strip()\n",
    "data_in.close()\n",
    "#separating the train and test dataset\n",
    "train_x2,train_y2 = [],[]\n",
    "test_index2,test_x2,test_y2 = [],[],[]\n",
    "row = training_in.readline().strip()\n",
    "while row:\n",
    "    row = row.split(',')\n",
    "    train_x2.append(data_x2[int(row[0])-1])\n",
    "    train_y2.append(int(row[1]))\n",
    "    row = training_in.readline()\n",
    "training_in.close()\n",
    "#the test datasets\n",
    "row = test_in.readline().strip()\n",
    "while row:\n",
    "    row = row.split(',')\n",
    "    test_x2.append(data_x2[int(row[0])-1])\n",
    "    test_index2.append(int(row[0]))\n",
    "    test_y2.append(int(row[1]))\n",
    "    row = test_in.readline()\n",
    "test_in.close()\n",
    "#sorting the values\n",
    "train_x_sorted2 = []\n",
    "train_y_arranged2 = np.array(train_y2)\n",
    "sort_index2 = np.argsort(train_y_arranged2)\n",
    "for position in sort_index2:\n",
    "    train_x_sorted2.append(train_x2[position])\n",
    "train_x2 = train_x_sorted2\n",
    "train_y2.sort() "
   ]
  },
  {
   "cell_type": "code",
   "execution_count": 11,
   "metadata": {
    "collapsed": false
   },
   "outputs": [],
   "source": [
    "dtw_matrix1 = np.empty([548,548])\n",
    "for index_data,train_data in enumerate(data_x):\n",
    "    for index_other,train_other in enumerate(data_x):\n",
    "        if index_data == index_other :\n",
    "            continue\n",
    "        if index_data > index_other:\n",
    "            dtw_matrix1[index_data,index_other] = dtw_matrix1[index_other,index_data]\n",
    "            continue\n",
    "        distance, path = fastdtw(train_data, train_other, dist=euclidean)\n",
    "        dtw_matrix1[index_data,index_other] = distance"
   ]
  },
  {
   "cell_type": "code",
   "execution_count": 12,
   "metadata": {
    "collapsed": true
   },
   "outputs": [],
   "source": [
    "np.save(\"dtw_matrix1\",dtw_matrix1)"
   ]
  },
  {
   "cell_type": "code",
   "execution_count": null,
   "metadata": {
    "collapsed": false
   },
   "outputs": [],
   "source": [
    "dtw_matrix2 = np.empty([548,548])\n",
    "for index_data,train_data in enumerate(data_x2):\n",
    "    for index_other,train_other in enumerate(data_x2):\n",
    "        if index_data == index_other :\n",
    "            continue\n",
    "        if index_data > index_other:\n",
    "            dtw_matrix2[index_data,index_other] = dtw_matrix2[index_other,index_data]\n",
    "            continue\n",
    "        distance, path = fastdtw(train_data, train_other, dist=euclidean)\n",
    "        dtw_matrix2[index_data,index_other] = distance"
   ]
  },
  {
   "cell_type": "code",
   "execution_count": null,
   "metadata": {
    "collapsed": true
   },
   "outputs": [],
   "source": [
    "np.save(\"dtw_matrix2\",dtw_matrix2)"
   ]
  },
  {
   "cell_type": "code",
   "execution_count": 15,
   "metadata": {
    "collapsed": false
   },
   "outputs": [
    {
     "name": "stdout",
     "output_type": "stream",
     "text": [
      "asd\n"
     ]
    }
   ],
   "source": [
    "print('asd')"
   ]
  },
  {
   "cell_type": "code",
   "execution_count": null,
   "metadata": {
    "collapsed": true
   },
   "outputs": [],
   "source": []
  }
 ],
 "metadata": {
  "kernelspec": {
   "display_name": "Python 2",
   "language": "python",
   "name": "python2"
  },
  "language_info": {
   "codemirror_mode": {
    "name": "ipython",
    "version": 2
   },
   "file_extension": ".py",
   "mimetype": "text/x-python",
   "name": "python",
   "nbconvert_exporter": "python",
   "pygments_lexer": "ipython2",
   "version": "2.7.11"
  }
 },
 "nbformat": 4,
 "nbformat_minor": 0
}
