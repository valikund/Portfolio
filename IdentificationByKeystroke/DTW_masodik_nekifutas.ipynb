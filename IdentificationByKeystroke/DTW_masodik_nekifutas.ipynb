{
 "cells": [
  {
   "cell_type": "code",
   "execution_count": 8,
   "metadata": {
    "collapsed": false
   },
   "outputs": [],
   "source": [
    "import numpy as np\n",
    "from sklearn import preprocessing\n",
    "from sklearn.metrics import accuracy_score\n",
    "from sklearn.linear_model import LogisticRegressionCV\n",
    "from sklearn.ensemble import RandomForestClassifier"
   ]
  },
  {
   "cell_type": "code",
   "execution_count": 5,
   "metadata": {
    "collapsed": false
   },
   "outputs": [],
   "source": [
    "dtw_test1 = np.load(\"dtw_test1.npy\")\n",
    "dtw_test2 = np.load(\"dtw_test2.npy\")\n",
    "dtw_train1 = np.load(\"dtw_array1.npy\")\n",
    "dtw_train2 = np.load(\"dtw_array2.npy\")\n",
    "test_y = np.load(\"test_y.npy\")"
   ]
  },
  {
   "cell_type": "code",
   "execution_count": 6,
   "metadata": {
    "collapsed": false
   },
   "outputs": [],
   "source": [
    "train_label = []\n",
    "for i in range(1,13):\n",
    "    train_label.extend([i,i,i,i,i])"
   ]
  },
  {
   "cell_type": "code",
   "execution_count": 40,
   "metadata": {
    "collapsed": false
   },
   "outputs": [
    {
     "name": "stdout",
     "output_type": "stream",
     "text": [
      "0.180327868852\n",
      "0.334016393443\n",
      "0.311475409836\n",
      "0.170081967213\n",
      "0.303278688525\n"
     ]
    }
   ],
   "source": [
    "from sklearn import neighbors\n",
    "neigh = neighbors.KNeighborsClassifier(3)\n",
    "neigh.fit(dtw_train2, train_label) \n",
    "pred2 = neigh.predict(dtw_test2)\n",
    "print(accuracy_score(test_y,pred2))\n",
    "\n",
    "neigh = neighbors.KNeighborsClassifier(3)\n",
    "neigh.fit(dtw_train1, train_label) \n",
    "pred1 = neigh.predict(dtw_test1)\n",
    "print(accuracy_score(test_y,pred1))\n",
    "\n",
    "neigh = RandomForestClassifier( n_estimators=1000)\n",
    "neigh.fit(dtw_train1, train_label) \n",
    "pred3 = neigh.predict(dtw_test1)\n",
    "print(accuracy_score(test_y,pred3))\n",
    "\n",
    "neigh = RandomForestClassifier( n_estimators=1000)\n",
    "neigh.fit(dtw_train2, train_label) \n",
    "pred4 = neigh.predict(dtw_test2)\n",
    "print(accuracy_score(test_y,pred4))\n",
    "\n",
    "concat = np.empty([60,120])\n",
    "concat[:, 0:60] = dtw_train1\n",
    "concat[:, 60:] = dtw_train2\n",
    "test = np.empty([488,120])\n",
    "test[:, 0:60] = dtw_test1\n",
    "test[:, 60:] = dtw_test2\n",
    "\n",
    "neigh = RandomForestClassifier( n_estimators=100)\n",
    "neigh.fit(concat, train_label) \n",
    "pred5 = neigh.predict(test)\n",
    "print(accuracy_score(test_y,pred5))"
   ]
  },
  {
   "cell_type": "code",
   "execution_count": 25,
   "metadata": {
    "collapsed": false
   },
   "outputs": [
    {
     "name": "stdout",
     "output_type": "stream",
     "text": [
      "(157, 163, 128)\n"
     ]
    }
   ],
   "source": [
    "#creating the semisupervized batch\n",
    "solution2 = []\n",
    "for i, predicted in enumerate(pred2):\n",
    "    if predicted == test_y[i]:\n",
    "        solution2.append(i)\n",
    "solution1 = []\n",
    "for i, predicted in enumerate(pred1):\n",
    "    if predicted == test_y[i]:\n",
    "        solution1.append(i)\n",
    "difference = list(set(solution2)-set(solution1))\n",
    "print(len(solution1),len(solution2),len(solution2)-len(difference))"
   ]
  },
  {
   "cell_type": "code",
   "execution_count": 41,
   "metadata": {
    "collapsed": false
   },
   "outputs": [
    {
     "name": "stdout",
     "output_type": "stream",
     "text": [
      "0.303278688525\n"
     ]
    }
   ],
   "source": [
    "out = open(\"submission.txt\",\"w\")\n",
    "\n",
    "test_index = np.load(\"test_index.npy\")\n",
    "numb = 0\n",
    "for index,y in enumerate(test_y):\n",
    "    result = 6\n",
    "    if y == pred5[index]  :\n",
    "        result = 1\n",
    "        numb = numb + 1\n",
    "    else:\n",
    "        result = 0\n",
    "    out.write(str(test_index[index])+\",\")\n",
    "    out.write(str(result))\n",
    "    out.write(\"\\n\")\n",
    "out.close()\n",
    "print(float(numb)/488)"
   ]
  },
  {
   "cell_type": "code",
   "execution_count": 24,
   "metadata": {
    "collapsed": false,
    "scrolled": true
   },
   "outputs": [
    {
     "name": "stdout",
     "output_type": "stream",
     "text": [
      "238\n"
     ]
    }
   ],
   "source": [
    "numb = 0\n",
    "for index,y in enumerate(test_y):\n",
    "    result = 6\n",
    "    if y == pred1[index] or y == pred2[index]:\n",
    "        numb = numb + 1\n",
    "print(numb)"
   ]
  },
  {
   "cell_type": "code",
   "execution_count": 25,
   "metadata": {
    "collapsed": false
   },
   "outputs": [],
   "source": [
    "#semi supervized szettek elkészítése\n",
    "int_train = 0\n",
    "int_test = 0\n",
    "semi_train1 = np.empty([numb,60])\n",
    "semi_train2 = np.empty([numb,60])\n",
    "semi_label = np.empty([numb])\n",
    "for index,y in enumerate(test_y):\n",
    "    if y == pred1[index] or y == pred2[index]:\n",
    "        semi_train1[int_train, :] = dtw_test1[index, :]\n",
    "        semi_train2[int_train, :] = dtw_test2[index, :]\n",
    "        semi_label[int_train] = y\n",
    "        int_train = int_train + 1"
   ]
  },
  {
   "cell_type": "code",
   "execution_count": 26,
   "metadata": {
    "collapsed": true
   },
   "outputs": [],
   "source": [
    "con_semi_train1 = np.empty([numb+60,60])\n",
    "con_semi_train1[0:60,:] = dtw_train1[:,:]\n",
    "con_semi_train1[60:,:] = semi_train1[:, :]\n",
    "con_semi_train2 = np.empty([numb+60,60])\n",
    "con_semi_train2[0:60,:] = dtw_train2[:,:]\n",
    "con_semi_train2[60:,:] = semi_train2[:, :]\n",
    "con_semi_label = np.empty([numb+60])\n",
    "con_semi_label[0:60] = train_label[:]\n",
    "con_semi_label[60:] = semi_label[:]"
   ]
  },
  {
   "cell_type": "code",
   "execution_count": 27,
   "metadata": {
    "collapsed": false
   },
   "outputs": [
    {
     "data": {
      "text/plain": [
       "0.48770491803278687"
      ]
     },
     "execution_count": 27,
     "metadata": {},
     "output_type": "execute_result"
    }
   ],
   "source": [
    "from sklearn.ensemble import RandomForestClassifier\n",
    "clf = neighbors.KNeighborsClassifier(1)\n",
    "clf = clf.fit(con_semi_train1, con_semi_label)\n",
    "pred1 = clf.predict(dtw_test1)\n",
    "accuracy_score(pred1, test_y)"
   ]
  },
  {
   "cell_type": "code",
   "execution_count": 28,
   "metadata": {
    "collapsed": false
   },
   "outputs": [
    {
     "data": {
      "text/plain": [
       "0.48770491803278687"
      ]
     },
     "execution_count": 28,
     "metadata": {},
     "output_type": "execute_result"
    }
   ],
   "source": [
    "clf = neighbors.KNeighborsClassifier(1)\n",
    "clf = clf.fit(con_semi_train2, con_semi_label)\n",
    "pred2 = clf.predict(dtw_test2)\n",
    "accuracy_score(pred2, test_y)"
   ]
  },
  {
   "cell_type": "code",
   "execution_count": 37,
   "metadata": {
    "collapsed": false
   },
   "outputs": [
    {
     "data": {
      "text/plain": [
       "0.49795081967213117"
      ]
     },
     "execution_count": 37,
     "metadata": {},
     "output_type": "execute_result"
    }
   ],
   "source": [
    "from sklearn.linear_model import LogisticRegressionCV\n",
    "clf = LogisticRegressionCV()\n",
    "clf = clf.fit(con_semi_train2, con_semi_label)\n",
    "pred2 = clf.predict(dtw_test2)\n",
    "accuracy_score(pred2, test_y)"
   ]
  },
  {
   "cell_type": "code",
   "execution_count": null,
   "metadata": {
    "collapsed": true
   },
   "outputs": [],
   "source": []
  }
 ],
 "metadata": {
  "kernelspec": {
   "display_name": "Python 2",
   "language": "python",
   "name": "python2"
  },
  "language_info": {
   "codemirror_mode": {
    "name": "ipython",
    "version": 2
   },
   "file_extension": ".py",
   "mimetype": "text/x-python",
   "name": "python",
   "nbconvert_exporter": "python",
   "pygments_lexer": "ipython2",
   "version": "2.7.11"
  }
 },
 "nbformat": 4,
 "nbformat_minor": 0
}
