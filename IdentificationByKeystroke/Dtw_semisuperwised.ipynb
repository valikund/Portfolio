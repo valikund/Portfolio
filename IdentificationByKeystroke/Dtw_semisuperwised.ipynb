{
 "cells": [
  {
   "cell_type": "code",
   "execution_count": 1,
   "metadata": {
    "collapsed": true
   },
   "outputs": [],
   "source": [
    "import numpy as np"
   ]
  },
  {
   "cell_type": "code",
   "execution_count": 3,
   "metadata": {
    "collapsed": true
   },
   "outputs": [],
   "source": [
    "dtw_test1 = np.load(\"dtw_test1.npy\")\n",
    "dtw_test2 = np.load(\"dtw_test2.npy\")\n",
    "dtw_train1 = np.load(\"dtw_array1.npy\")\n",
    "dtw_train2 = np.load(\"dtw_array2.npy\")\n",
    "test_y = np.load(\"test_y.npy\")\n",
    "train_label = []\n",
    "for i in range(1,13):\n",
    "    train_label.extend([i,i,i,i,i])"
   ]
  },
  {
   "cell_type": "code",
   "execution_count": 20,
   "metadata": {
    "collapsed": false
   },
   "outputs": [
    {
     "name": "stderr",
     "output_type": "stream",
     "text": [
      "C:\\Users\\valikund\\Anaconda3\\lib\\site-packages\\numpy\\core\\numeric.py:294: FutureWarning: in the future, full([488], -1) will return an array of dtype('int32')\n",
      "  format(shape, fill_value, array(fill_value).dtype), FutureWarning)\n"
     ]
    },
    {
     "data": {
      "text/plain": [
       "(548,)"
      ]
     },
     "execution_count": 20,
     "metadata": {},
     "output_type": "execute_result"
    }
   ],
   "source": [
    "x = np.concatenate((dtw_train1,dtw_test1),axis=0)\n",
    "train_label = np.array(train_label)\n",
    "y = np.concatenate((train_label,np.full([488],fill_value=-1)),axis=0)\n",
    "y.shape"
   ]
  },
  {
   "cell_type": "code",
   "execution_count": 21,
   "metadata": {
    "collapsed": false
   },
   "outputs": [
    {
     "name": "stderr",
     "output_type": "stream",
     "text": [
      "C:\\Users\\valikund\\Anaconda3\\lib\\site-packages\\sklearn\\semi_supervised\\label_propagation.py:259: RuntimeWarning: invalid value encountered in true_divide\n",
      "  self.label_distributions_ /= normalizer\n"
     ]
    },
    {
     "data": {
      "text/plain": [
       "LabelPropagation(alpha=1, gamma=20, kernel='rbf', max_iter=30, n_neighbors=7,\n",
       "         tol=0.001)"
      ]
     },
     "execution_count": 21,
     "metadata": {},
     "output_type": "execute_result"
    }
   ],
   "source": [
    "from sklearn.semi_supervised import LabelPropagation\n",
    "label_prop_model = LabelPropagation()\n",
    "label_prop_model.fit(x, y)"
   ]
  },
  {
   "cell_type": "code",
   "execution_count": null,
   "metadata": {
    "collapsed": true
   },
   "outputs": [],
   "source": [
    "out = open(\"submission.txt\",\"w\")\n",
    "\n",
    "test_index = np.load(\"test_index.npy\")\n",
    "numb = 0\n",
    "for index,y in enumerate(test_y):\n",
    "    result = 6\n",
    "    if y == pred[index]:\n",
    "        result = 1\n",
    "        numb = numb + 1\n",
    "    else:\n",
    "        result = 0\n",
    "    out.write(str(test_index[index])+\",\")\n",
    "    out.write(str(result))\n",
    "    out.write(\"\\n\")\n",
    "out.close()\n",
    "print(numb)"
   ]
  }
 ],
 "metadata": {
  "kernelspec": {
   "display_name": "Python 3",
   "language": "python",
   "name": "python3"
  },
  "language_info": {
   "codemirror_mode": {
    "name": "ipython",
    "version": 3
   },
   "file_extension": ".py",
   "mimetype": "text/x-python",
   "name": "python",
   "nbconvert_exporter": "python",
   "pygments_lexer": "ipython3",
   "version": "3.5.1"
  }
 },
 "nbformat": 4,
 "nbformat_minor": 0
}
